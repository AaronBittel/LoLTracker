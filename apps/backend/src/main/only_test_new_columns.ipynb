{
 "cells": [
  {
   "cell_type": "code",
   "execution_count": null,
   "metadata": {},
   "outputs": [],
   "source": [
    "import pandas as pd\n",
    "import matplotlib.pyplot as plt\n",
    "\n",
    "pd.set_option('display.max_columns', None)\n",
    "pd.set_option('display.max_rows', None)"
   ]
  },
  {
   "cell_type": "code",
   "execution_count": null,
   "metadata": {},
   "outputs": [],
   "source": [
    "df_kr = pd.read_parquet(\"../../../data/dataframes/정신력남자.parquet\")\n",
    "df_euw = pd.read_parquet(\"../../../data/dataframes/Don_Noway.parquet\")\n",
    "df_noway2u = pd.read_parquet(\"../../../data/dataframes/noway2u.parquet\")\n",
    "df_broses = pd.read_parquet(\"../../../data/dataframes/TRM_BROSES.parquet\")\n",
    "df_nicigeddon = pd.read_parquet(\"../../../data/dataframes/TRM_Nicigeddon.parquet\")"
   ]
  },
  {
   "cell_type": "code",
   "execution_count": null,
   "metadata": {},
   "outputs": [],
   "source": [
    "df_kr.shape\n",
    "print(df_euw.shape[0] + df_noway2u.shape[0])\n",
    "\n",
    "df_euw = pd.concat([df_euw, df_noway2u]).sort_values(by=\"gameCreation\", ascending=False)\n",
    "df_all = pd.concat([df_euw, df_noway2u, df_kr]).sort_values(by=\"gameCreation\", ascending=False)\n",
    "df_all.shape"
   ]
  },
  {
   "cell_type": "code",
   "execution_count": null,
   "metadata": {},
   "outputs": [],
   "source": [
    "df_all.tail()"
   ]
  },
  {
   "cell_type": "markdown",
   "metadata": {},
   "source": [
    "#### Champion Game time"
   ]
  },
  {
   "cell_type": "code",
   "execution_count": null,
   "metadata": {},
   "outputs": [],
   "source": [
    "filt = (df_kr[\"championName\"].value_counts() >= 5)\n",
    "filtered_df = df_kr[df_kr[\"championName\"].isin(filt[filt].index)]\n",
    "\n",
    "filtered_df.groupby(\"championName\")[\"gameDuration\"].mean() / 60"
   ]
  },
  {
   "cell_type": "markdown",
   "metadata": {},
   "source": [
    "#### Average Game time"
   ]
  },
  {
   "cell_type": "code",
   "execution_count": null,
   "metadata": {},
   "outputs": [],
   "source": [
    "avg_game_time_korea = df_kr[\"gameDuration\"].mean() / 60\n",
    "avg_game_time_euw = df_euw[\"gameDuration\"].mean() / 60\n",
    "\n",
    "print(avg_game_time_euw, avg_game_time_korea)"
   ]
  },
  {
   "cell_type": "code",
   "execution_count": null,
   "metadata": {},
   "outputs": [],
   "source": [
    "# Data for plotting\n",
    "regions = ['Korea', 'EUW']\n",
    "avg_game_times = [avg_game_time_korea, avg_game_time_euw]\n",
    "\n",
    "# Plotting as a bar chart\n",
    "plt.bar(regions, avg_game_times, color=['blue', 'green'])\n",
    "plt.xlabel('Region')\n",
    "plt.ylabel('Average Game Time (minutes)')\n",
    "plt.title('Average Game Time for Korea and EUW')\n",
    "plt.show()\n"
   ]
  },
  {
   "cell_type": "markdown",
   "metadata": {},
   "source": [
    "#### Game end by minute"
   ]
  },
  {
   "cell_type": "code",
   "execution_count": null,
   "metadata": {},
   "outputs": [],
   "source": [
    "# Binning und Häufigkeitszählung\n",
    "bins = range(0, df_kr['gameDuration'].max() // 60 + 1, 2)\n",
    "df_kr['duration_bin'] = pd.cut(df_kr['gameDuration'] / 60, bins=bins, right=False)\n",
    "bin_counts = df_kr['duration_bin'].value_counts().sort_index()\n",
    "\n",
    "# Plotting als Liniendiagramm\n",
    "bin_counts.plot(kind='line', grid=True)\n",
    "plt.xlabel('Game Duration (minutes)')\n",
    "plt.ylabel('Frequency')\n",
    "plt.title('Distribution of Game Duration Bins')\n",
    "\n",
    "# x-Achsenbeschriftung anpassen\n",
    "plt.xticks(ticks=range(len(bin_counts.index)))\n",
    "\n",
    "bins = range(0, df_euw['gameDuration'].max() // 60 + 1, 2)\n",
    "df_euw['duration_bin'] = pd.cut(df_euw['gameDuration'] / 60, bins=bins, right=False)\n",
    "bin_counts = df_euw['duration_bin'].value_counts().sort_index()\n",
    "\n",
    "# Plotting als Liniendiagramm\n",
    "bin_counts.plot(kind='line', grid=True)\n",
    "plt.xlabel('Game Duration (minutes)')\n",
    "plt.ylabel('Frequency')\n",
    "plt.title('Distribution of Game Duration Bins')\n",
    "\n",
    "# x-Achsenbeschriftung anpassen\n",
    "plt.xticks(ticks=range(len(bin_counts.index)))\n",
    "\n",
    "plt.show()\n",
    "\n",
    "bin_counts"
   ]
  },
  {
   "cell_type": "markdown",
   "metadata": {},
   "source": [
    "#### Average game time per patch"
   ]
  },
  {
   "cell_type": "code",
   "execution_count": null,
   "metadata": {},
   "outputs": [],
   "source": [
    "df_euw.sort_values(by=\"gameCreation\", inplace=True)\n",
    "\n",
    "df_euw.head(1)"
   ]
  },
  {
   "cell_type": "code",
   "execution_count": null,
   "metadata": {},
   "outputs": [],
   "source": [
    "# Convert 'gameVersion' to a Categorical data type for custom sorting\n",
    "df_euw['gameVersion'] = pd.Categorical(df_euw['gameVersion'], categories=df_euw['gameVersion'].unique(), ordered=True)\n",
    "\n",
    "# Sort the DataFrame by 'gameVersion' in ascending order\n",
    "df_euw = df_euw.sort_values(by='gameVersion', ascending=True)\n",
    "\n",
    "# Group by \"gameVersion\" and calculate the mean\n",
    "mean_game_duration = df_euw.groupby(\"gameVersion\")[\"gameDuration\"].mean() / 60\n",
    "\n",
    "ax = mean_game_duration.plot(kind=\"line\")\n",
    "plt.xlabel(\"Game Version\")\n",
    "plt.ylabel(\"Mean Game Duration (minutes)\")\n",
    "plt.title(\"Mean Game Duration by Game Version\")\n",
    "plt.grid()\n",
    "\n",
    "# Add x-axis labels for every second categorical value\n",
    "ax.set_xticks(range(0, len(mean_game_duration), 2))\n",
    "ax.set_yticks(range(20, 31, 1))\n",
    "ax.set_xticklabels(mean_game_duration.index[::2], rotation=45, ha='right')\n",
    "\n",
    "plt.show()"
   ]
  },
  {
   "cell_type": "markdown",
   "metadata": {},
   "source": [
    "#### Win percentage with increasing gold lead"
   ]
  },
  {
   "cell_type": "code",
   "execution_count": null,
   "metadata": {},
   "outputs": [],
   "source": [
    "team_gold_diff_df = df_euw.filter(like=\"totalTeamGoldDiff\", axis=\"columns\").copy()\n",
    "team_gold_diff_df.loc[:, \"win\"] = df_euw[\"win\"]\n",
    "\n",
    "team_gold_diff_df[\"totalTeamGoldDiff@30\"].notna().value_counts()"
   ]
  },
  {
   "cell_type": "code",
   "execution_count": null,
   "metadata": {},
   "outputs": [],
   "source": [
    "team_gold_adv_dict = {}\n",
    "\n",
    "START = 0\n",
    "STOP = 15001\n",
    "STEP = 250\n",
    "\n",
    "bins = range(START, STOP, STEP)\n",
    "\n",
    "team_gold_adv_dict = {\n",
    "    bin: {\n",
    "        \"games\": 0,\n",
    "        \"wins\": 0\n",
    "    } for bin in range(START, STOP, STEP)\n",
    "}\n",
    "\n",
    "for bin in bins:\n",
    "    for index, gold_diffs in team_gold_diff_df.iterrows():\n",
    "        for gold_diff in gold_diffs:\n",
    "            if bin <= gold_diff <= bin + STEP:\n",
    "                team_gold_adv_dict[bin][\"games\"] += 1\n",
    "                if team_gold_diff_df.loc[index][\"win\"]:\n",
    "                    team_gold_adv_dict[bin][\"wins\"] += 1\n",
    "                break"
   ]
  },
  {
   "cell_type": "code",
   "execution_count": null,
   "metadata": {},
   "outputs": [],
   "source": [
    "team_gold_dis_dict = {}\n",
    "\n",
    "START = 0\n",
    "STOP = -15001\n",
    "STEP = -250\n",
    "\n",
    "bins = range(START, STOP, STEP)\n",
    "\n",
    "team_gold_dis_dict = {\n",
    "    bin: {\n",
    "        \"games\": 0,\n",
    "        \"wins\": 0\n",
    "    } for bin in range(START, STOP, STEP)\n",
    "}\n",
    "\n",
    "for bin in bins:\n",
    "    for index, gold_diffs in team_gold_diff_df.iterrows():\n",
    "        for gold_diff in gold_diffs:\n",
    "            if bin + STEP <= gold_diff <= bin:\n",
    "                team_gold_dis_dict[bin][\"games\"] += 1\n",
    "                if team_gold_diff_df.loc[index][\"win\"]:\n",
    "                    team_gold_dis_dict[bin][\"wins\"] += 1\n",
    "                break"
   ]
  },
  {
   "cell_type": "code",
   "execution_count": null,
   "metadata": {},
   "outputs": [],
   "source": [
    "team_gold_dis_win_rate_df = pd.DataFrame(team_gold_dis_dict).T\n",
    "team_gold_dis_win_rate_df[\"winrate\"] = team_gold_dis_win_rate_df[\"wins\"] / team_gold_dis_win_rate_df[\"games\"] * 100\n",
    "team_gold_dis_win_rate_df.set_index(team_gold_dis_win_rate_df.index * -1)"
   ]
  },
  {
   "cell_type": "code",
   "execution_count": null,
   "metadata": {},
   "outputs": [],
   "source": [
    "team_gold_adv_win_rate_df = pd.DataFrame(team_gold_adv_dict).T\n",
    "team_gold_adv_win_rate_df[\"winrate\"] = team_gold_adv_win_rate_df[\"wins\"] / team_gold_adv_win_rate_df[\"games\"] * 100"
   ]
  },
  {
   "cell_type": "code",
   "execution_count": null,
   "metadata": {},
   "outputs": [],
   "source": [
    "START = 0\n",
    "STOP = 15001\n",
    "STEP = 250\n",
    "\n",
    "plt.plot(range(START, STOP, STEP), team_gold_adv_win_rate_df[\"winrate\"])\n",
    "plt.plot(range(START, STOP, STEP), team_gold_dis_win_rate_df[\"winrate\"])\n",
    "plt.axhline(y=50, color='black', linestyle='-', label='50 % winrate')\n",
    "plt.grid()\n",
    "plt.xticks(range(START, STOP, STEP * 4), rotation=25)\n",
    "plt.yticks(range(0, 101, 10))\n",
    "plt.ylabel(\"Winrate in %\")\n",
    "plt.xlabel(\"Team Gold Difference\")\n",
    "plt.legend([\"Winrate with gold advantage\", \"Winrate with gold disadvantage\", \"50 % winrate reference\"])\n",
    "plt.title(\"Winrate based on Team Gold Difference\")\n",
    "\n",
    "plt.show()"
   ]
  },
  {
   "cell_type": "markdown",
   "metadata": {},
   "source": [
    "#### Players in game"
   ]
  },
  {
   "cell_type": "code",
   "execution_count": null,
   "metadata": {},
   "outputs": [],
   "source": [
    "df_broses.sort_values(by=\"gameCreation\").head()"
   ]
  },
  {
   "cell_type": "code",
   "execution_count": null,
   "metadata": {},
   "outputs": [],
   "source": [
    "import requests\n",
    "\n",
    "# participants_df = df_euw.filter(like=\"participant\")\n",
    "# participants_df = df_kr.filter(like=\"participant\")\n",
    "participants_df = df_broses.filter(like=\"participant\")\n",
    "for puuid, amount in participants_df.unstack().value_counts().head(10).items():\n",
    "    print(amount, requests.get(f\"https://europe.api.riotgames.com/riot/account/v1/accounts/by-puuid/{puuid}?api_key=RGAPI-284e5f95-5b7d-4e15-a9dc-705170bb98e8\").json()[\"gameName\"])"
   ]
  },
  {
   "cell_type": "markdown",
   "metadata": {},
   "source": [
    "#### All Games combined"
   ]
  },
  {
   "cell_type": "code",
   "execution_count": null,
   "metadata": {},
   "outputs": [],
   "source": [
    "result = (\n",
    "    df_all.query('laneOpponent == \"Heimerdinger\"')\n",
    "    .groupby('championName')\n",
    "    .agg(games=('win', 'count'), winrate=('win', 'mean'))\n",
    "    .reset_index()\n",
    ")\n",
    "\n",
    "result\n",
    "\n",
    "\n",
    "plt.scatter(result[\"games\"], result[\"winrate\"])\n",
    "plt.axhline(y=0.5)\n",
    "plt.axvline(x=result[\"games\"].max() / 2)\n",
    "\n",
    "plt.xticks(range(0, result[\"games\"].max() + 1, 1))\n",
    "\n",
    "plt.show()"
   ]
  },
  {
   "cell_type": "code",
   "execution_count": null,
   "metadata": {},
   "outputs": [],
   "source": [
    "half_games = result[\"games\"].max() // 2 + 1\n",
    "\n",
    "best_champion = (\n",
    "    result.query('games >= @half_games')\n",
    "    .sort_values(by='winrate', ascending=False)\n",
    "    .iloc[0]['championName']\n",
    ")\n",
    "\n",
    "print(\"Best Champion:\", best_champion)"
   ]
  },
  {
   "cell_type": "markdown",
   "metadata": {},
   "source": [
    "#### Noways Mathe mann champion based on his record for last 10 Lane Opponents"
   ]
  },
  {
   "cell_type": "code",
   "execution_count": null,
   "metadata": {},
   "outputs": [],
   "source": [
    "mathe_mann = {\"laneOpponent\": [], \"championName\": []}\n",
    "\n",
    "for laneOpponent in df_all[\"laneOpponent\"].unique():\n",
    "    \n",
    "    mathe_mann['laneOpponent'].append(laneOpponent)\n",
    "\n",
    "    print(laneOpponent, end=\" -> \")\n",
    "\n",
    "    result = (\n",
    "    df_all.query('laneOpponent == @laneOpponent')\n",
    "    .groupby('championName')\n",
    "    .agg(games=('win', 'count'), winrate=('win', 'mean'))\n",
    "    .reset_index()\n",
    "    )\n",
    "\n",
    "    half_games = result[\"games\"].max() // 2 + 1\n",
    "\n",
    "    best_champion = (\n",
    "    result.query('games >= @half_games')\n",
    "    .sort_values(by='winrate', ascending=False)\n",
    "    .iloc[0]['championName']\n",
    "    )\n",
    "\n",
    "    mathe_mann['championName'].append(best_champion)\n",
    "\n",
    "    print(best_champion)\n",
    "\n",
    "mathe_matchups = pd.DataFrame(mathe_mann)"
   ]
  },
  {
   "cell_type": "code",
   "execution_count": null,
   "metadata": {},
   "outputs": [],
   "source": [
    "mathe_matchups.shape"
   ]
  },
  {
   "cell_type": "markdown",
   "metadata": {},
   "source": [
    "#### Mathe mann for all matchups played across the team"
   ]
  },
  {
   "cell_type": "code",
   "execution_count": null,
   "metadata": {},
   "outputs": [],
   "source": [
    "result = df_all.groupby([\"allyTopPick\", \"enemyTopPick\"]).agg(\n",
    "    games=('win', 'size'),\n",
    "    winrate_percentage=('win', lambda x: x.mean() * 100)\n",
    ")\n",
    "\n",
    "result.sort_values(by=\"games\", ascending=False).head()"
   ]
  },
  {
   "cell_type": "code",
   "execution_count": null,
   "metadata": {},
   "outputs": [],
   "source": [
    "plt.scatter(result[\"games\"], result[\"winrate_percentage\"])"
   ]
  },
  {
   "cell_type": "code",
   "execution_count": null,
   "metadata": {},
   "outputs": [],
   "source": [
    "def shark(start_champion):\n",
    "    champions = [start_champion]\n",
    "    current_champion = start_champion\n",
    "    while True:\n",
    "        counter = get_best_matchup(current_champion)\n",
    "        if counter in champions:\n",
    "            break\n",
    "        champions.append(counter)\n",
    "        current_champion = counter\n",
    "    return champions\n",
    "\n",
    "def get_best_matchup(champion):\n",
    "    half_games = result.loc[champion, :][\"games\"].max() // 2 + 1\n",
    "    return result.query(\"(index.get_level_values('allyTopPick') == @champion) & games >= @half_games\").sort_values(by=\"winrate_percentage\", ascending=False).index[0][1]"
   ]
  },
  {
   "cell_type": "code",
   "execution_count": null,
   "metadata": {},
   "outputs": [],
   "source": [
    "champions_list = shark(\"Ahri\")\n",
    "\n",
    "for index, champion in enumerate(champions_list):\n",
    "    print(champion, end=\"\")\n",
    "    if index < len(champions_list) - 1:\n",
    "        print(\" < \", end=\"\")"
   ]
  },
  {
   "cell_type": "markdown",
   "metadata": {},
   "source": [
    "#### Matchups based on winrate"
   ]
  },
  {
   "cell_type": "code",
   "execution_count": null,
   "metadata": {},
   "outputs": [],
   "source": [
    "df_all.query(\"championName == 'Ahri'\")[[\"laneOpponent\", \"win\"]].groupby(\"laneOpponent\").agg(\n",
    "        games=('win', 'size'),\n",
    "        winrate=('win', 'mean')\n",
    "    ).sort_values(by=\"games\", ascending=False).reset_index().head()\n"
   ]
  },
  {
   "cell_type": "markdown",
   "metadata": {},
   "source": [
    "#### Matchups based on individual gold diff at minute 10"
   ]
  },
  {
   "cell_type": "code",
   "execution_count": null,
   "metadata": {},
   "outputs": [],
   "source": [
    "df_all[\"gold_adv_@10\"] = df_all[\"gold_diff@10\"] > 0"
   ]
  },
  {
   "cell_type": "code",
   "execution_count": null,
   "metadata": {},
   "outputs": [],
   "source": [
    "df_all.query(\"championName == 'Ahri'\")[[\"laneOpponent\", \"gold_adv_@10\"]].groupby(\"laneOpponent\").agg(\n",
    "        games=('gold_adv_@10', 'size'),\n",
    "        perc_gold_lead_at_10=('gold_adv_@10', 'mean')\n",
    "    ).sort_values(by=\"games\", ascending=False).reset_index().head()"
   ]
  },
  {
   "cell_type": "code",
   "execution_count": 267,
   "metadata": {},
   "outputs": [
    {
     "data": {
      "text/html": [
       "<div>\n",
       "<style scoped>\n",
       "    .dataframe tbody tr th:only-of-type {\n",
       "        vertical-align: middle;\n",
       "    }\n",
       "\n",
       "    .dataframe tbody tr th {\n",
       "        vertical-align: top;\n",
       "    }\n",
       "\n",
       "    .dataframe thead th {\n",
       "        text-align: right;\n",
       "    }\n",
       "</style>\n",
       "<table border=\"1\" class=\"dataframe\">\n",
       "  <thead>\n",
       "    <tr style=\"text-align: right;\">\n",
       "      <th></th>\n",
       "      <th>laneOpponent</th>\n",
       "      <th>games</th>\n",
       "      <th>winrate</th>\n",
       "      <th>perc_gold_lead_at_10</th>\n",
       "    </tr>\n",
       "  </thead>\n",
       "  <tbody>\n",
       "    <tr>\n",
       "      <th>44</th>\n",
       "      <td>Sylas</td>\n",
       "      <td>18</td>\n",
       "      <td>0.555556</td>\n",
       "      <td>0.611111</td>\n",
       "    </tr>\n",
       "    <tr>\n",
       "      <th>58</th>\n",
       "      <td>Yone</td>\n",
       "      <td>15</td>\n",
       "      <td>0.600000</td>\n",
       "      <td>0.666667</td>\n",
       "    </tr>\n",
       "    <tr>\n",
       "      <th>23</th>\n",
       "      <td>KSante</td>\n",
       "      <td>7</td>\n",
       "      <td>0.714286</td>\n",
       "      <td>0.714286</td>\n",
       "    </tr>\n",
       "    <tr>\n",
       "      <th>36</th>\n",
       "      <td>Renekton</td>\n",
       "      <td>7</td>\n",
       "      <td>0.714286</td>\n",
       "      <td>0.571429</td>\n",
       "    </tr>\n",
       "    <tr>\n",
       "      <th>20</th>\n",
       "      <td>Irelia</td>\n",
       "      <td>6</td>\n",
       "      <td>0.333333</td>\n",
       "      <td>0.666667</td>\n",
       "    </tr>\n",
       "  </tbody>\n",
       "</table>\n",
       "</div>"
      ],
      "text/plain": [
       "   laneOpponent  games   winrate  perc_gold_lead_at_10\n",
       "44        Sylas     18  0.555556              0.611111\n",
       "58         Yone     15  0.600000              0.666667\n",
       "23       KSante      7  0.714286              0.714286\n",
       "36     Renekton      7  0.714286              0.571429\n",
       "20       Irelia      6  0.333333              0.666667"
      ]
     },
     "execution_count": 267,
     "metadata": {},
     "output_type": "execute_result"
    }
   ],
   "source": [
    "import pandas as pd\n",
    "\n",
    "champion = \"Viktor\"\n",
    "\n",
    "# Assuming you have already calculated games and winrate\n",
    "games_and_winrate = df_all.query(\"championName == @champion\")[[\"laneOpponent\", \"win\"]].groupby(\"laneOpponent\").agg(\n",
    "    games=('win', 'size'),\n",
    "    winrate=('win', 'mean')\n",
    ").reset_index()\n",
    "\n",
    "# Assuming you have already calculated games and perc_gold_lead_at_10\n",
    "games_and_gold_adv_at_10 = df_all.query(\"championName == @champion\")[[\"laneOpponent\", \"gold_adv_@10\"]].groupby(\"laneOpponent\").agg(\n",
    "    games=('gold_adv_@10', 'size'),\n",
    "    perc_gold_lead_at_10=('gold_adv_@10', 'mean')\n",
    ").reset_index()\n",
    "\n",
    "# Merge the two DataFrames on \"laneOpponent\"\n",
    "combined_result = pd.merge(games_and_winrate, games_and_gold_adv_at_10, on=[\"laneOpponent\", \"games\"]).sort_values(by=\"games\", ascending=False)\n",
    "\n",
    "combined_result.head()"
   ]
  },
  {
   "cell_type": "code",
   "execution_count": 272,
   "metadata": {},
   "outputs": [
    {
     "data": {
      "text/html": [
       "<div>\n",
       "<style scoped>\n",
       "    .dataframe tbody tr th:only-of-type {\n",
       "        vertical-align: middle;\n",
       "    }\n",
       "\n",
       "    .dataframe tbody tr th {\n",
       "        vertical-align: top;\n",
       "    }\n",
       "\n",
       "    .dataframe thead th {\n",
       "        text-align: right;\n",
       "    }\n",
       "</style>\n",
       "<table border=\"1\" class=\"dataframe\">\n",
       "  <thead>\n",
       "    <tr style=\"text-align: right;\">\n",
       "      <th></th>\n",
       "      <th>laneOpponent</th>\n",
       "      <th>games</th>\n",
       "      <th>winrate</th>\n",
       "      <th>perc_gold_lead_at_10</th>\n",
       "      <th>match_up_category</th>\n",
       "    </tr>\n",
       "  </thead>\n",
       "  <tbody>\n",
       "    <tr>\n",
       "      <th>28</th>\n",
       "      <td>Malphite</td>\n",
       "      <td>3</td>\n",
       "      <td>0.333333</td>\n",
       "      <td>0.333333</td>\n",
       "      <td>-2</td>\n",
       "    </tr>\n",
       "    <tr>\n",
       "      <th>11</th>\n",
       "      <td>Ekko</td>\n",
       "      <td>3</td>\n",
       "      <td>0.000000</td>\n",
       "      <td>0.333333</td>\n",
       "      <td>-2</td>\n",
       "    </tr>\n",
       "    <tr>\n",
       "      <th>9</th>\n",
       "      <td>Darius</td>\n",
       "      <td>3</td>\n",
       "      <td>0.000000</td>\n",
       "      <td>0.000000</td>\n",
       "      <td>-2</td>\n",
       "    </tr>\n",
       "    <tr>\n",
       "      <th>62</th>\n",
       "      <td>Zoe</td>\n",
       "      <td>3</td>\n",
       "      <td>0.333333</td>\n",
       "      <td>0.000000</td>\n",
       "      <td>-2</td>\n",
       "    </tr>\n",
       "    <tr>\n",
       "      <th>55</th>\n",
       "      <td>Xerath</td>\n",
       "      <td>1</td>\n",
       "      <td>0.000000</td>\n",
       "      <td>0.000000</td>\n",
       "      <td>-2</td>\n",
       "    </tr>\n",
       "    <tr>\n",
       "      <th>29</th>\n",
       "      <td>Neeko</td>\n",
       "      <td>1</td>\n",
       "      <td>0.000000</td>\n",
       "      <td>0.000000</td>\n",
       "      <td>-2</td>\n",
       "    </tr>\n",
       "    <tr>\n",
       "      <th>48</th>\n",
       "      <td>TwistedFate</td>\n",
       "      <td>1</td>\n",
       "      <td>0.000000</td>\n",
       "      <td>0.000000</td>\n",
       "      <td>-2</td>\n",
       "    </tr>\n",
       "    <tr>\n",
       "      <th>38</th>\n",
       "      <td>Rumble</td>\n",
       "      <td>1</td>\n",
       "      <td>0.000000</td>\n",
       "      <td>0.000000</td>\n",
       "      <td>-2</td>\n",
       "    </tr>\n",
       "  </tbody>\n",
       "</table>\n",
       "</div>"
      ],
      "text/plain": [
       "   laneOpponent  games   winrate  perc_gold_lead_at_10 match_up_category\n",
       "28     Malphite      3  0.333333              0.333333                -2\n",
       "11         Ekko      3  0.000000              0.333333                -2\n",
       "9        Darius      3  0.000000              0.000000                -2\n",
       "62          Zoe      3  0.333333              0.000000                -2\n",
       "55       Xerath      1  0.000000              0.000000                -2\n",
       "29        Neeko      1  0.000000              0.000000                -2\n",
       "48  TwistedFate      1  0.000000              0.000000                -2\n",
       "38       Rumble      1  0.000000              0.000000                -2"
      ]
     },
     "execution_count": 272,
     "metadata": {},
     "output_type": "execute_result"
    }
   ],
   "source": [
    "import numpy as np\n",
    "\n",
    "# Assuming you have a DataFrame named combined_result with columns winrate and perc_gold_lead_at_10\n",
    "\n",
    "conditions = [\n",
    "    (combined_result['perc_gold_lead_at_10'] >= 0.50) & (combined_result['winrate'] >= 0.50),\n",
    "    (combined_result['perc_gold_lead_at_10'] >= 0.50) & (combined_result['winrate'] < 0.50),\n",
    "    (combined_result['perc_gold_lead_at_10'] < 0.50) & (combined_result['winrate'] >= 0.50),\n",
    "    (combined_result['perc_gold_lead_at_10'] < 0.50) & (combined_result['winrate'] < 0.50),\n",
    "]\n",
    "\n",
    "# choices = ['win lane win game', 'win lane lose game', 'lose lane win game', 'lose lane lose game']\n",
    "choices = [2, 1, -1, -2]\n",
    "\n",
    "combined_result['match_up_category'] = np.select(conditions, choices, default='other')\n",
    "\n",
    "combined_result.query(\"match_up_category == '-2'\")"
   ]
  }
 ],
 "metadata": {
  "kernelspec": {
   "display_name": "lolTrackerEnv",
   "language": "python",
   "name": "python3"
  },
  "language_info": {
   "codemirror_mode": {
    "name": "ipython",
    "version": 3
   },
   "file_extension": ".py",
   "mimetype": "text/x-python",
   "name": "python",
   "nbconvert_exporter": "python",
   "pygments_lexer": "ipython3",
   "version": "3.12.0"
  }
 },
 "nbformat": 4,
 "nbformat_minor": 2
}
