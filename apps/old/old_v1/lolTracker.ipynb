{
 "cells": [
  {
   "cell_type": "markdown",
   "metadata": {},
   "source": [
    "### Clean Code"
   ]
  },
  {
   "cell_type": "markdown",
   "metadata": {},
   "source": [
    "#### Create riotwatcher object"
   ]
  },
  {
   "cell_type": "code",
   "execution_count": 22,
   "metadata": {},
   "outputs": [],
   "source": [
    "import riotwatcher\n",
    "import pandas as pd"
   ]
  },
  {
   "cell_type": "code",
   "execution_count": 23,
   "metadata": {},
   "outputs": [],
   "source": [
    "def get_api_key() -> str:\n",
    "    with open(\"../api_key.txt\", \"r\") as file:\n",
    "        return file.read()\n",
    "\n",
    "\n",
    "API_KEY = get_api_key()\n",
    "\n",
    "lolwatcher = riotwatcher.LolWatcher(api_key=API_KEY)"
   ]
  },
  {
   "cell_type": "markdown",
   "metadata": {},
   "source": [
    "#### Create Queue Enum"
   ]
  },
  {
   "cell_type": "code",
   "execution_count": 24,
   "metadata": {},
   "outputs": [],
   "source": [
    "from enum import Enum\n",
    "\n",
    "\n",
    "class Queue(Enum):\n",
    "    RANKED = 420\n",
    "    NORMAL = 400\n",
    "    ARAM = 450"
   ]
  },
  {
   "cell_type": "markdown",
   "metadata": {},
   "source": [
    "#### Create Server / Region dict"
   ]
  },
  {
   "cell_type": "code",
   "execution_count": 25,
   "metadata": {},
   "outputs": [],
   "source": [
    "regions = {\n",
    "    \"EUROPE\": \"EUW1\",\n",
    "    \"ASIA\": \"KR\",\n",
    "    \"AMERICAS\": \"NA\"\n",
    "}"
   ]
  },
  {
   "cell_type": "markdown",
   "metadata": {},
   "source": [
    "#### Constants"
   ]
  },
  {
   "cell_type": "code",
   "execution_count": 26,
   "metadata": {},
   "outputs": [],
   "source": [
    "MAX_GAME_COUNT = 100"
   ]
  },
  {
   "cell_type": "markdown",
   "metadata": {},
   "source": [
    "#### Input Values"
   ]
  },
  {
   "cell_type": "code",
   "execution_count": 27,
   "metadata": {},
   "outputs": [],
   "source": [
    "summoner_name = \"TRM%20Maxi%20King\"\n",
    "server = \"EUW1\"\n",
    "region = list(regions.keys())[list(regions.values()).index(server)]\n",
    "# number of games\n",
    "number_of_games = 2000\n",
    "# till_patch = \"13.15\"\n",
    "queue = Queue.ARAM"
   ]
  },
  {
   "cell_type": "markdown",
   "metadata": {},
   "source": [
    "#### Relevant Game Keys"
   ]
  },
  {
   "cell_type": "markdown",
   "metadata": {},
   "source": [
    "* metadata keys"
   ]
  },
  {
   "cell_type": "code",
   "execution_count": 28,
   "metadata": {},
   "outputs": [],
   "source": [
    "META_DATA_KEYS = [\"matchId\"]"
   ]
  },
  {
   "cell_type": "markdown",
   "metadata": {},
   "source": [
    "* info data keys"
   ]
  },
  {
   "cell_type": "code",
   "execution_count": 29,
   "metadata": {},
   "outputs": [],
   "source": [
    "INFO_DATA_KEYS = [\"gameCreation\", \"gameDuration\", \"gameVersion\"]"
   ]
  },
  {
   "cell_type": "markdown",
   "metadata": {},
   "source": [
    "* player data keys"
   ]
  },
  {
   "cell_type": "code",
   "execution_count": 30,
   "metadata": {},
   "outputs": [],
   "source": [
    "PLAYER_DATA_KEYS = [\"kills\", \"deaths\", \"assists\", \"championName\", \"teamId\", \"win\"]"
   ]
  },
  {
   "cell_type": "markdown",
   "metadata": {},
   "source": [
    "* all participant info"
   ]
  },
  {
   "cell_type": "code",
   "execution_count": 31,
   "metadata": {},
   "outputs": [],
   "source": [
    "ALL_PARTICIPANT_KEYS = [\"opponent\"]"
   ]
  },
  {
   "cell_type": "markdown",
   "metadata": {},
   "source": [
    "#### Get match list"
   ]
  },
  {
   "cell_type": "code",
   "execution_count": 32,
   "metadata": {},
   "outputs": [],
   "source": [
    "def get_match_list(region: str, puuid: str, number_of_games: int, queue: Queue):\n",
    "    matchlist = []\n",
    "\n",
    "    count = 100 if number_of_games > 100 else number_of_games\n",
    "\n",
    "    for i in range((number_of_games // MAX_GAME_COUNT) + 1):\n",
    "        current_len = len(matchlist)\n",
    "        matchlist.extend(lolwatcher.match.matchlist_by_puuid(region=region, puuid=puuid, start=i*MAX_GAME_COUNT, count=count, queue=queue.value))\n",
    "        # Break when no games where added by latest matchlist_by_puuid call\n",
    "        if current_len == len(matchlist):\n",
    "            break\n",
    "\n",
    "    return matchlist"
   ]
  },
  {
   "cell_type": "markdown",
   "metadata": {},
   "source": [
    "#### Get Matchdata"
   ]
  },
  {
   "cell_type": "code",
   "execution_count": 33,
   "metadata": {},
   "outputs": [],
   "source": [
    "def get_match_data(puuid: str, region: str, number_of_games: int, queue: Queue):\n",
    "    try:\n",
    "        matchlist = get_match_list(region=region, puuid=puuid, number_of_games=number_of_games, queue=queue)\n",
    "\n",
    "        for match_id in matchlist:\n",
    "            yield lolwatcher.match.by_id(region=region, match_id=match_id)\n",
    "\n",
    "    except riotwatcher.ApiError as err:\n",
    "            if err.response.status_code == 429:\n",
    "                print('We should retry in {} seconds.'.format(err.headers['Retry-After']))\n",
    "            else:\n",
    "                print(err)\n",
    "                raise "
   ]
  },
  {
   "cell_type": "markdown",
   "metadata": {},
   "source": [
    "#### Get participant player data"
   ]
  },
  {
   "cell_type": "code",
   "execution_count": 34,
   "metadata": {},
   "outputs": [],
   "source": [
    "def get_participant_game_data(match_data: dict[str, str], puuid: str) -> dict[str, str]:\n",
    "    participant_index = match_data[\"metadata\"][\"participants\"].index(puuid)\n",
    "    return match_data[\"info\"][\"participants\"][participant_index]"
   ]
  },
  {
   "cell_type": "markdown",
   "metadata": {},
   "source": [
    "#### Get opponent player data"
   ]
  },
  {
   "cell_type": "code",
   "execution_count": 35,
   "metadata": {},
   "outputs": [],
   "source": [
    "def get_opponent_player_data(match_data: dict[str, str], puuid: str) -> dict[str, str]:\n",
    "    participant_index = match_data[\"metadata\"][\"participants\"].index(puuid)\n",
    "    player_team_position = match_data[\"info\"][\"participants\"][participant_index][\"teamPosition\"]\n",
    "    for player_data in match_data[\"info\"][\"participants\"]:\n",
    "\n",
    "        if player_data[\"teamPosition\"] == player_team_position and (player_data[\"puuid\"] != puuid):\n",
    "            return {\"opponentChampion\": player_data[\"championName\"]}"
   ]
  },
  {
   "cell_type": "markdown",
   "metadata": {},
   "source": [
    "#### Extract relevant match data"
   ]
  },
  {
   "cell_type": "markdown",
   "metadata": {},
   "source": [
    "* extract data"
   ]
  },
  {
   "cell_type": "code",
   "execution_count": 36,
   "metadata": {},
   "outputs": [],
   "source": [
    "def extract_data(data: dict[str, str], key_list: list[str]):\n",
    "    match_data = {}\n",
    "    for key in key_list:\n",
    "        match_data[key] = data[key]\n",
    "    return match_data"
   ]
  },
  {
   "cell_type": "markdown",
   "metadata": {},
   "source": [
    "* extract match data"
   ]
  },
  {
   "cell_type": "code",
   "execution_count": 37,
   "metadata": {},
   "outputs": [],
   "source": [
    "def extract_match_data(match_data: dict[str, str], puuid: str) -> dict[str, str]:\n",
    "    game_data = {}\n",
    "    game_data.update(extract_data(data=match_data[\"metadata\"], key_list=META_DATA_KEYS))\n",
    "    game_data.update(extract_data(data=match_data[\"info\"], key_list=INFO_DATA_KEYS))\n",
    "    game_data.update(extract_data(data=get_participant_game_data(match_data, puuid), key_list=PLAYER_DATA_KEYS))\n",
    "    # game_data.update(get_opponent_player_data(match_data=match_data, puuid=puuid))\n",
    "    return game_data"
   ]
  },
  {
   "cell_type": "markdown",
   "metadata": {},
   "source": [
    "#### Load data in dataframe"
   ]
  },
  {
   "cell_type": "code",
   "execution_count": 38,
   "metadata": {},
   "outputs": [
    {
     "data": {
      "text/html": [
       "<div>\n",
       "<style scoped>\n",
       "    .dataframe tbody tr th:only-of-type {\n",
       "        vertical-align: middle;\n",
       "    }\n",
       "\n",
       "    .dataframe tbody tr th {\n",
       "        vertical-align: top;\n",
       "    }\n",
       "\n",
       "    .dataframe thead th {\n",
       "        text-align: right;\n",
       "    }\n",
       "</style>\n",
       "<table border=\"1\" class=\"dataframe\">\n",
       "  <thead>\n",
       "    <tr style=\"text-align: right;\">\n",
       "      <th></th>\n",
       "      <th>matchId</th>\n",
       "      <th>gameCreation</th>\n",
       "      <th>gameDuration</th>\n",
       "      <th>gameVersion</th>\n",
       "      <th>kills</th>\n",
       "      <th>deaths</th>\n",
       "      <th>assists</th>\n",
       "      <th>championName</th>\n",
       "      <th>teamId</th>\n",
       "      <th>win</th>\n",
       "    </tr>\n",
       "  </thead>\n",
       "  <tbody>\n",
       "    <tr>\n",
       "      <th>0</th>\n",
       "      <td>EUW1_6672630593</td>\n",
       "      <td>1699745725751</td>\n",
       "      <td>1431</td>\n",
       "      <td>13.22.541.9804</td>\n",
       "      <td>6</td>\n",
       "      <td>12</td>\n",
       "      <td>33</td>\n",
       "      <td>Azir</td>\n",
       "      <td>200</td>\n",
       "      <td>False</td>\n",
       "    </tr>\n",
       "    <tr>\n",
       "      <th>1</th>\n",
       "      <td>EUW1_6672613086</td>\n",
       "      <td>1699745219333</td>\n",
       "      <td>111</td>\n",
       "      <td>13.22.541.9804</td>\n",
       "      <td>0</td>\n",
       "      <td>0</td>\n",
       "      <td>0</td>\n",
       "      <td>Jinx</td>\n",
       "      <td>100</td>\n",
       "      <td>False</td>\n",
       "    </tr>\n",
       "    <tr>\n",
       "      <th>2</th>\n",
       "      <td>EUW1_6672582767</td>\n",
       "      <td>1699743739869</td>\n",
       "      <td>1047</td>\n",
       "      <td>13.22.541.9804</td>\n",
       "      <td>14</td>\n",
       "      <td>8</td>\n",
       "      <td>22</td>\n",
       "      <td>KogMaw</td>\n",
       "      <td>200</td>\n",
       "      <td>True</td>\n",
       "    </tr>\n",
       "    <tr>\n",
       "      <th>3</th>\n",
       "      <td>EUW1_6672536147</td>\n",
       "      <td>1699742177261</td>\n",
       "      <td>1313</td>\n",
       "      <td>13.22.541.9804</td>\n",
       "      <td>11</td>\n",
       "      <td>8</td>\n",
       "      <td>30</td>\n",
       "      <td>Yasuo</td>\n",
       "      <td>200</td>\n",
       "      <td>True</td>\n",
       "    </tr>\n",
       "    <tr>\n",
       "      <th>4</th>\n",
       "      <td>EUW1_6653859691</td>\n",
       "      <td>1698596172593</td>\n",
       "      <td>1423</td>\n",
       "      <td>13.21.539.4823</td>\n",
       "      <td>16</td>\n",
       "      <td>12</td>\n",
       "      <td>37</td>\n",
       "      <td>Xerath</td>\n",
       "      <td>200</td>\n",
       "      <td>False</td>\n",
       "    </tr>\n",
       "    <tr>\n",
       "      <th>...</th>\n",
       "      <td>...</td>\n",
       "      <td>...</td>\n",
       "      <td>...</td>\n",
       "      <td>...</td>\n",
       "      <td>...</td>\n",
       "      <td>...</td>\n",
       "      <td>...</td>\n",
       "      <td>...</td>\n",
       "      <td>...</td>\n",
       "      <td>...</td>\n",
       "    </tr>\n",
       "    <tr>\n",
       "      <th>534</th>\n",
       "      <td>EUW1_5872829983</td>\n",
       "      <td>1652621248000</td>\n",
       "      <td>1905</td>\n",
       "      <td>12.9.439.127</td>\n",
       "      <td>32</td>\n",
       "      <td>13</td>\n",
       "      <td>25</td>\n",
       "      <td>Zed</td>\n",
       "      <td>100</td>\n",
       "      <td>True</td>\n",
       "    </tr>\n",
       "    <tr>\n",
       "      <th>535</th>\n",
       "      <td>EUW1_5872815327</td>\n",
       "      <td>1652619432000</td>\n",
       "      <td>1560</td>\n",
       "      <td>12.9.439.127</td>\n",
       "      <td>9</td>\n",
       "      <td>10</td>\n",
       "      <td>26</td>\n",
       "      <td>Ashe</td>\n",
       "      <td>200</td>\n",
       "      <td>True</td>\n",
       "    </tr>\n",
       "    <tr>\n",
       "      <th>536</th>\n",
       "      <td>EUW1_5870294390</td>\n",
       "      <td>1652479852000</td>\n",
       "      <td>1249</td>\n",
       "      <td>12.9.439.127</td>\n",
       "      <td>7</td>\n",
       "      <td>10</td>\n",
       "      <td>19</td>\n",
       "      <td>Lux</td>\n",
       "      <td>100</td>\n",
       "      <td>True</td>\n",
       "    </tr>\n",
       "    <tr>\n",
       "      <th>537</th>\n",
       "      <td>EUW1_5870116659</td>\n",
       "      <td>1652474376000</td>\n",
       "      <td>1577</td>\n",
       "      <td>12.9.439.127</td>\n",
       "      <td>10</td>\n",
       "      <td>8</td>\n",
       "      <td>26</td>\n",
       "      <td>Velkoz</td>\n",
       "      <td>200</td>\n",
       "      <td>True</td>\n",
       "    </tr>\n",
       "    <tr>\n",
       "      <th>538</th>\n",
       "      <td>EUW1_5860703912</td>\n",
       "      <td>1651952627000</td>\n",
       "      <td>1416</td>\n",
       "      <td>12.8.437.6765</td>\n",
       "      <td>18</td>\n",
       "      <td>5</td>\n",
       "      <td>24</td>\n",
       "      <td>Senna</td>\n",
       "      <td>200</td>\n",
       "      <td>True</td>\n",
       "    </tr>\n",
       "  </tbody>\n",
       "</table>\n",
       "<p>539 rows × 10 columns</p>\n",
       "</div>"
      ],
      "text/plain": [
       "             matchId   gameCreation  gameDuration     gameVersion  kills  \\\n",
       "0    EUW1_6672630593  1699745725751          1431  13.22.541.9804      6   \n",
       "1    EUW1_6672613086  1699745219333           111  13.22.541.9804      0   \n",
       "2    EUW1_6672582767  1699743739869          1047  13.22.541.9804     14   \n",
       "3    EUW1_6672536147  1699742177261          1313  13.22.541.9804     11   \n",
       "4    EUW1_6653859691  1698596172593          1423  13.21.539.4823     16   \n",
       "..               ...            ...           ...             ...    ...   \n",
       "534  EUW1_5872829983  1652621248000          1905    12.9.439.127     32   \n",
       "535  EUW1_5872815327  1652619432000          1560    12.9.439.127      9   \n",
       "536  EUW1_5870294390  1652479852000          1249    12.9.439.127      7   \n",
       "537  EUW1_5870116659  1652474376000          1577    12.9.439.127     10   \n",
       "538  EUW1_5860703912  1651952627000          1416   12.8.437.6765     18   \n",
       "\n",
       "     deaths  assists championName  teamId    win  \n",
       "0        12       33         Azir     200  False  \n",
       "1         0        0         Jinx     100  False  \n",
       "2         8       22       KogMaw     200   True  \n",
       "3         8       30        Yasuo     200   True  \n",
       "4        12       37       Xerath     200  False  \n",
       "..      ...      ...          ...     ...    ...  \n",
       "534      13       25          Zed     100   True  \n",
       "535      10       26         Ashe     200   True  \n",
       "536      10       19          Lux     100   True  \n",
       "537       8       26       Velkoz     200   True  \n",
       "538       5       24        Senna     200   True  \n",
       "\n",
       "[539 rows x 10 columns]"
      ]
     },
     "execution_count": 38,
     "metadata": {},
     "output_type": "execute_result"
    }
   ],
   "source": [
    "puuid = lolwatcher.summoner.by_name(region=server, summoner_name=summoner_name)[\"puuid\"]\n",
    "\n",
    "match_data_generator = get_match_data(puuid=puuid, region=region, number_of_games=number_of_games, queue=queue)\n",
    "\n",
    "player_data = []\n",
    "\n",
    "for data in match_data_generator:\n",
    "    match_data = extract_match_data(data, puuid)\n",
    "    patch = \".\".join(match_data[\"gameVersion\"].split(\".\")[:2])\n",
    "    # if patch == till_patch:\n",
    "    #     break\n",
    "    player_data.append(match_data)\n",
    "\n",
    "df = pd.DataFrame(player_data)\n",
    "\n",
    "df"
   ]
  },
  {
   "cell_type": "markdown",
   "metadata": {},
   "source": [
    "#### Clean up data"
   ]
  },
  {
   "cell_type": "markdown",
   "metadata": {},
   "source": [
    "* convert unix timestamp in milliseconds to datetime"
   ]
  },
  {
   "cell_type": "code",
   "execution_count": 39,
   "metadata": {},
   "outputs": [],
   "source": [
    "import datetime\n",
    "\n",
    "def convert_unix_to_datetime(timestamp_ms):\n",
    "    # Convert milliseconds to seconds\n",
    "    timestamp_sec = timestamp_ms / 1000.0\n",
    "    \n",
    "    # Create a datetime object\n",
    "    datetime_obj = datetime.datetime.utcfromtimestamp(timestamp_sec).replace(microsecond=0)\n",
    "    \n",
    "    return datetime_obj"
   ]
  },
  {
   "cell_type": "code",
   "execution_count": 40,
   "metadata": {},
   "outputs": [
    {
     "data": {
      "text/html": [
       "<div>\n",
       "<style scoped>\n",
       "    .dataframe tbody tr th:only-of-type {\n",
       "        vertical-align: middle;\n",
       "    }\n",
       "\n",
       "    .dataframe tbody tr th {\n",
       "        vertical-align: top;\n",
       "    }\n",
       "\n",
       "    .dataframe thead th {\n",
       "        text-align: right;\n",
       "    }\n",
       "</style>\n",
       "<table border=\"1\" class=\"dataframe\">\n",
       "  <thead>\n",
       "    <tr style=\"text-align: right;\">\n",
       "      <th></th>\n",
       "      <th>matchId</th>\n",
       "      <th>gameCreation</th>\n",
       "      <th>gameDuration</th>\n",
       "      <th>gameVersion</th>\n",
       "      <th>kills</th>\n",
       "      <th>deaths</th>\n",
       "      <th>assists</th>\n",
       "      <th>championName</th>\n",
       "      <th>teamId</th>\n",
       "      <th>win</th>\n",
       "    </tr>\n",
       "  </thead>\n",
       "  <tbody>\n",
       "    <tr>\n",
       "      <th>0</th>\n",
       "      <td>EUW1_6672630593</td>\n",
       "      <td>2023-11-11 23:35:25</td>\n",
       "      <td>1431</td>\n",
       "      <td>13.22.541.9804</td>\n",
       "      <td>6</td>\n",
       "      <td>12</td>\n",
       "      <td>33</td>\n",
       "      <td>Azir</td>\n",
       "      <td>200</td>\n",
       "      <td>False</td>\n",
       "    </tr>\n",
       "    <tr>\n",
       "      <th>1</th>\n",
       "      <td>EUW1_6672613086</td>\n",
       "      <td>2023-11-11 23:26:59</td>\n",
       "      <td>111</td>\n",
       "      <td>13.22.541.9804</td>\n",
       "      <td>0</td>\n",
       "      <td>0</td>\n",
       "      <td>0</td>\n",
       "      <td>Jinx</td>\n",
       "      <td>100</td>\n",
       "      <td>False</td>\n",
       "    </tr>\n",
       "    <tr>\n",
       "      <th>2</th>\n",
       "      <td>EUW1_6672582767</td>\n",
       "      <td>2023-11-11 23:02:19</td>\n",
       "      <td>1047</td>\n",
       "      <td>13.22.541.9804</td>\n",
       "      <td>14</td>\n",
       "      <td>8</td>\n",
       "      <td>22</td>\n",
       "      <td>KogMaw</td>\n",
       "      <td>200</td>\n",
       "      <td>True</td>\n",
       "    </tr>\n",
       "    <tr>\n",
       "      <th>3</th>\n",
       "      <td>EUW1_6672536147</td>\n",
       "      <td>2023-11-11 22:36:17</td>\n",
       "      <td>1313</td>\n",
       "      <td>13.22.541.9804</td>\n",
       "      <td>11</td>\n",
       "      <td>8</td>\n",
       "      <td>30</td>\n",
       "      <td>Yasuo</td>\n",
       "      <td>200</td>\n",
       "      <td>True</td>\n",
       "    </tr>\n",
       "    <tr>\n",
       "      <th>4</th>\n",
       "      <td>EUW1_6653859691</td>\n",
       "      <td>2023-10-29 16:16:12</td>\n",
       "      <td>1423</td>\n",
       "      <td>13.21.539.4823</td>\n",
       "      <td>16</td>\n",
       "      <td>12</td>\n",
       "      <td>37</td>\n",
       "      <td>Xerath</td>\n",
       "      <td>200</td>\n",
       "      <td>False</td>\n",
       "    </tr>\n",
       "    <tr>\n",
       "      <th>...</th>\n",
       "      <td>...</td>\n",
       "      <td>...</td>\n",
       "      <td>...</td>\n",
       "      <td>...</td>\n",
       "      <td>...</td>\n",
       "      <td>...</td>\n",
       "      <td>...</td>\n",
       "      <td>...</td>\n",
       "      <td>...</td>\n",
       "      <td>...</td>\n",
       "    </tr>\n",
       "    <tr>\n",
       "      <th>534</th>\n",
       "      <td>EUW1_5872829983</td>\n",
       "      <td>2022-05-15 13:27:28</td>\n",
       "      <td>1905</td>\n",
       "      <td>12.9.439.127</td>\n",
       "      <td>32</td>\n",
       "      <td>13</td>\n",
       "      <td>25</td>\n",
       "      <td>Zed</td>\n",
       "      <td>100</td>\n",
       "      <td>True</td>\n",
       "    </tr>\n",
       "    <tr>\n",
       "      <th>535</th>\n",
       "      <td>EUW1_5872815327</td>\n",
       "      <td>2022-05-15 12:57:12</td>\n",
       "      <td>1560</td>\n",
       "      <td>12.9.439.127</td>\n",
       "      <td>9</td>\n",
       "      <td>10</td>\n",
       "      <td>26</td>\n",
       "      <td>Ashe</td>\n",
       "      <td>200</td>\n",
       "      <td>True</td>\n",
       "    </tr>\n",
       "    <tr>\n",
       "      <th>536</th>\n",
       "      <td>EUW1_5870294390</td>\n",
       "      <td>2022-05-13 22:10:52</td>\n",
       "      <td>1249</td>\n",
       "      <td>12.9.439.127</td>\n",
       "      <td>7</td>\n",
       "      <td>10</td>\n",
       "      <td>19</td>\n",
       "      <td>Lux</td>\n",
       "      <td>100</td>\n",
       "      <td>True</td>\n",
       "    </tr>\n",
       "    <tr>\n",
       "      <th>537</th>\n",
       "      <td>EUW1_5870116659</td>\n",
       "      <td>2022-05-13 20:39:36</td>\n",
       "      <td>1577</td>\n",
       "      <td>12.9.439.127</td>\n",
       "      <td>10</td>\n",
       "      <td>8</td>\n",
       "      <td>26</td>\n",
       "      <td>Velkoz</td>\n",
       "      <td>200</td>\n",
       "      <td>True</td>\n",
       "    </tr>\n",
       "    <tr>\n",
       "      <th>538</th>\n",
       "      <td>EUW1_5860703912</td>\n",
       "      <td>2022-05-07 19:43:47</td>\n",
       "      <td>1416</td>\n",
       "      <td>12.8.437.6765</td>\n",
       "      <td>18</td>\n",
       "      <td>5</td>\n",
       "      <td>24</td>\n",
       "      <td>Senna</td>\n",
       "      <td>200</td>\n",
       "      <td>True</td>\n",
       "    </tr>\n",
       "  </tbody>\n",
       "</table>\n",
       "<p>539 rows × 10 columns</p>\n",
       "</div>"
      ],
      "text/plain": [
       "             matchId        gameCreation  gameDuration     gameVersion  kills  \\\n",
       "0    EUW1_6672630593 2023-11-11 23:35:25          1431  13.22.541.9804      6   \n",
       "1    EUW1_6672613086 2023-11-11 23:26:59           111  13.22.541.9804      0   \n",
       "2    EUW1_6672582767 2023-11-11 23:02:19          1047  13.22.541.9804     14   \n",
       "3    EUW1_6672536147 2023-11-11 22:36:17          1313  13.22.541.9804     11   \n",
       "4    EUW1_6653859691 2023-10-29 16:16:12          1423  13.21.539.4823     16   \n",
       "..               ...                 ...           ...             ...    ...   \n",
       "534  EUW1_5872829983 2022-05-15 13:27:28          1905    12.9.439.127     32   \n",
       "535  EUW1_5872815327 2022-05-15 12:57:12          1560    12.9.439.127      9   \n",
       "536  EUW1_5870294390 2022-05-13 22:10:52          1249    12.9.439.127      7   \n",
       "537  EUW1_5870116659 2022-05-13 20:39:36          1577    12.9.439.127     10   \n",
       "538  EUW1_5860703912 2022-05-07 19:43:47          1416   12.8.437.6765     18   \n",
       "\n",
       "     deaths  assists championName  teamId    win  \n",
       "0        12       33         Azir     200  False  \n",
       "1         0        0         Jinx     100  False  \n",
       "2         8       22       KogMaw     200   True  \n",
       "3         8       30        Yasuo     200   True  \n",
       "4        12       37       Xerath     200  False  \n",
       "..      ...      ...          ...     ...    ...  \n",
       "534      13       25          Zed     100   True  \n",
       "535      10       26         Ashe     200   True  \n",
       "536      10       19          Lux     100   True  \n",
       "537       8       26       Velkoz     200   True  \n",
       "538       5       24        Senna     200   True  \n",
       "\n",
       "[539 rows x 10 columns]"
      ]
     },
     "execution_count": 40,
     "metadata": {},
     "output_type": "execute_result"
    }
   ],
   "source": [
    "# Convert TimestampColumn to datetime and round down to the nearest second\n",
    "df[\"gameCreation\"] = pd.to_datetime(df[\"gameCreation\"], unit='ms').dt.floor('s')\n",
    "df"
   ]
  },
  {
   "cell_type": "markdown",
   "metadata": {},
   "source": [
    "* convert gameVersion (13.22.541.9804) to patch (13.22)"
   ]
  },
  {
   "cell_type": "code",
   "execution_count": 41,
   "metadata": {},
   "outputs": [
    {
     "data": {
      "text/html": [
       "<div>\n",
       "<style scoped>\n",
       "    .dataframe tbody tr th:only-of-type {\n",
       "        vertical-align: middle;\n",
       "    }\n",
       "\n",
       "    .dataframe tbody tr th {\n",
       "        vertical-align: top;\n",
       "    }\n",
       "\n",
       "    .dataframe thead th {\n",
       "        text-align: right;\n",
       "    }\n",
       "</style>\n",
       "<table border=\"1\" class=\"dataframe\">\n",
       "  <thead>\n",
       "    <tr style=\"text-align: right;\">\n",
       "      <th></th>\n",
       "      <th>matchId</th>\n",
       "      <th>gameCreation</th>\n",
       "      <th>gameDuration</th>\n",
       "      <th>gameVersion</th>\n",
       "      <th>kills</th>\n",
       "      <th>deaths</th>\n",
       "      <th>assists</th>\n",
       "      <th>championName</th>\n",
       "      <th>teamId</th>\n",
       "      <th>win</th>\n",
       "    </tr>\n",
       "  </thead>\n",
       "  <tbody>\n",
       "    <tr>\n",
       "      <th>0</th>\n",
       "      <td>EUW1_6672630593</td>\n",
       "      <td>2023-11-11 23:35:25</td>\n",
       "      <td>1431</td>\n",
       "      <td>13.22</td>\n",
       "      <td>6</td>\n",
       "      <td>12</td>\n",
       "      <td>33</td>\n",
       "      <td>Azir</td>\n",
       "      <td>200</td>\n",
       "      <td>False</td>\n",
       "    </tr>\n",
       "    <tr>\n",
       "      <th>1</th>\n",
       "      <td>EUW1_6672613086</td>\n",
       "      <td>2023-11-11 23:26:59</td>\n",
       "      <td>111</td>\n",
       "      <td>13.22</td>\n",
       "      <td>0</td>\n",
       "      <td>0</td>\n",
       "      <td>0</td>\n",
       "      <td>Jinx</td>\n",
       "      <td>100</td>\n",
       "      <td>False</td>\n",
       "    </tr>\n",
       "    <tr>\n",
       "      <th>2</th>\n",
       "      <td>EUW1_6672582767</td>\n",
       "      <td>2023-11-11 23:02:19</td>\n",
       "      <td>1047</td>\n",
       "      <td>13.22</td>\n",
       "      <td>14</td>\n",
       "      <td>8</td>\n",
       "      <td>22</td>\n",
       "      <td>KogMaw</td>\n",
       "      <td>200</td>\n",
       "      <td>True</td>\n",
       "    </tr>\n",
       "    <tr>\n",
       "      <th>3</th>\n",
       "      <td>EUW1_6672536147</td>\n",
       "      <td>2023-11-11 22:36:17</td>\n",
       "      <td>1313</td>\n",
       "      <td>13.22</td>\n",
       "      <td>11</td>\n",
       "      <td>8</td>\n",
       "      <td>30</td>\n",
       "      <td>Yasuo</td>\n",
       "      <td>200</td>\n",
       "      <td>True</td>\n",
       "    </tr>\n",
       "    <tr>\n",
       "      <th>4</th>\n",
       "      <td>EUW1_6653859691</td>\n",
       "      <td>2023-10-29 16:16:12</td>\n",
       "      <td>1423</td>\n",
       "      <td>13.21</td>\n",
       "      <td>16</td>\n",
       "      <td>12</td>\n",
       "      <td>37</td>\n",
       "      <td>Xerath</td>\n",
       "      <td>200</td>\n",
       "      <td>False</td>\n",
       "    </tr>\n",
       "    <tr>\n",
       "      <th>...</th>\n",
       "      <td>...</td>\n",
       "      <td>...</td>\n",
       "      <td>...</td>\n",
       "      <td>...</td>\n",
       "      <td>...</td>\n",
       "      <td>...</td>\n",
       "      <td>...</td>\n",
       "      <td>...</td>\n",
       "      <td>...</td>\n",
       "      <td>...</td>\n",
       "    </tr>\n",
       "    <tr>\n",
       "      <th>534</th>\n",
       "      <td>EUW1_5872829983</td>\n",
       "      <td>2022-05-15 13:27:28</td>\n",
       "      <td>1905</td>\n",
       "      <td>12.9</td>\n",
       "      <td>32</td>\n",
       "      <td>13</td>\n",
       "      <td>25</td>\n",
       "      <td>Zed</td>\n",
       "      <td>100</td>\n",
       "      <td>True</td>\n",
       "    </tr>\n",
       "    <tr>\n",
       "      <th>535</th>\n",
       "      <td>EUW1_5872815327</td>\n",
       "      <td>2022-05-15 12:57:12</td>\n",
       "      <td>1560</td>\n",
       "      <td>12.9</td>\n",
       "      <td>9</td>\n",
       "      <td>10</td>\n",
       "      <td>26</td>\n",
       "      <td>Ashe</td>\n",
       "      <td>200</td>\n",
       "      <td>True</td>\n",
       "    </tr>\n",
       "    <tr>\n",
       "      <th>536</th>\n",
       "      <td>EUW1_5870294390</td>\n",
       "      <td>2022-05-13 22:10:52</td>\n",
       "      <td>1249</td>\n",
       "      <td>12.9</td>\n",
       "      <td>7</td>\n",
       "      <td>10</td>\n",
       "      <td>19</td>\n",
       "      <td>Lux</td>\n",
       "      <td>100</td>\n",
       "      <td>True</td>\n",
       "    </tr>\n",
       "    <tr>\n",
       "      <th>537</th>\n",
       "      <td>EUW1_5870116659</td>\n",
       "      <td>2022-05-13 20:39:36</td>\n",
       "      <td>1577</td>\n",
       "      <td>12.9</td>\n",
       "      <td>10</td>\n",
       "      <td>8</td>\n",
       "      <td>26</td>\n",
       "      <td>Velkoz</td>\n",
       "      <td>200</td>\n",
       "      <td>True</td>\n",
       "    </tr>\n",
       "    <tr>\n",
       "      <th>538</th>\n",
       "      <td>EUW1_5860703912</td>\n",
       "      <td>2022-05-07 19:43:47</td>\n",
       "      <td>1416</td>\n",
       "      <td>12.8</td>\n",
       "      <td>18</td>\n",
       "      <td>5</td>\n",
       "      <td>24</td>\n",
       "      <td>Senna</td>\n",
       "      <td>200</td>\n",
       "      <td>True</td>\n",
       "    </tr>\n",
       "  </tbody>\n",
       "</table>\n",
       "<p>539 rows × 10 columns</p>\n",
       "</div>"
      ],
      "text/plain": [
       "             matchId        gameCreation  gameDuration gameVersion  kills  \\\n",
       "0    EUW1_6672630593 2023-11-11 23:35:25          1431       13.22      6   \n",
       "1    EUW1_6672613086 2023-11-11 23:26:59           111       13.22      0   \n",
       "2    EUW1_6672582767 2023-11-11 23:02:19          1047       13.22     14   \n",
       "3    EUW1_6672536147 2023-11-11 22:36:17          1313       13.22     11   \n",
       "4    EUW1_6653859691 2023-10-29 16:16:12          1423       13.21     16   \n",
       "..               ...                 ...           ...         ...    ...   \n",
       "534  EUW1_5872829983 2022-05-15 13:27:28          1905        12.9     32   \n",
       "535  EUW1_5872815327 2022-05-15 12:57:12          1560        12.9      9   \n",
       "536  EUW1_5870294390 2022-05-13 22:10:52          1249        12.9      7   \n",
       "537  EUW1_5870116659 2022-05-13 20:39:36          1577        12.9     10   \n",
       "538  EUW1_5860703912 2022-05-07 19:43:47          1416        12.8     18   \n",
       "\n",
       "     deaths  assists championName  teamId    win  \n",
       "0        12       33         Azir     200  False  \n",
       "1         0        0         Jinx     100  False  \n",
       "2         8       22       KogMaw     200   True  \n",
       "3         8       30        Yasuo     200   True  \n",
       "4        12       37       Xerath     200  False  \n",
       "..      ...      ...          ...     ...    ...  \n",
       "534      13       25          Zed     100   True  \n",
       "535      10       26         Ashe     200   True  \n",
       "536      10       19          Lux     100   True  \n",
       "537       8       26       Velkoz     200   True  \n",
       "538       5       24        Senna     200   True  \n",
       "\n",
       "[539 rows x 10 columns]"
      ]
     },
     "execution_count": 41,
     "metadata": {},
     "output_type": "execute_result"
    }
   ],
   "source": [
    "# Anwendung eines Lambda-Ausdrucks auf die \"gameVersion\"-Spalte\n",
    "df['gameVersion'] = df['gameVersion'].apply(lambda x: \".\".join(x.split('.')[:2]))\n",
    "\n",
    "# Ausgabe des aktualisierten DataFrames\n",
    "df\n"
   ]
  },
  {
   "cell_type": "markdown",
   "metadata": {},
   "source": [
    "* change teamPosition: UTILITY to SUPPORT"
   ]
  },
  {
   "cell_type": "code",
   "execution_count": 43,
   "metadata": {},
   "outputs": [
    {
     "data": {
      "text/html": [
       "<div>\n",
       "<style scoped>\n",
       "    .dataframe tbody tr th:only-of-type {\n",
       "        vertical-align: middle;\n",
       "    }\n",
       "\n",
       "    .dataframe tbody tr th {\n",
       "        vertical-align: top;\n",
       "    }\n",
       "\n",
       "    .dataframe thead th {\n",
       "        text-align: right;\n",
       "    }\n",
       "</style>\n",
       "<table border=\"1\" class=\"dataframe\">\n",
       "  <thead>\n",
       "    <tr style=\"text-align: right;\">\n",
       "      <th></th>\n",
       "      <th>matchId</th>\n",
       "      <th>gameCreation</th>\n",
       "      <th>gameDuration</th>\n",
       "      <th>gameVersion</th>\n",
       "      <th>kills</th>\n",
       "      <th>deaths</th>\n",
       "      <th>assists</th>\n",
       "      <th>championName</th>\n",
       "      <th>teamId</th>\n",
       "      <th>win</th>\n",
       "    </tr>\n",
       "  </thead>\n",
       "  <tbody>\n",
       "    <tr>\n",
       "      <th>534</th>\n",
       "      <td>EUW1_5872829983</td>\n",
       "      <td>2022-05-15 13:27:28</td>\n",
       "      <td>1905</td>\n",
       "      <td>12.9</td>\n",
       "      <td>32</td>\n",
       "      <td>13</td>\n",
       "      <td>25</td>\n",
       "      <td>Zed</td>\n",
       "      <td>100</td>\n",
       "      <td>True</td>\n",
       "    </tr>\n",
       "    <tr>\n",
       "      <th>535</th>\n",
       "      <td>EUW1_5872815327</td>\n",
       "      <td>2022-05-15 12:57:12</td>\n",
       "      <td>1560</td>\n",
       "      <td>12.9</td>\n",
       "      <td>9</td>\n",
       "      <td>10</td>\n",
       "      <td>26</td>\n",
       "      <td>Ashe</td>\n",
       "      <td>200</td>\n",
       "      <td>True</td>\n",
       "    </tr>\n",
       "    <tr>\n",
       "      <th>536</th>\n",
       "      <td>EUW1_5870294390</td>\n",
       "      <td>2022-05-13 22:10:52</td>\n",
       "      <td>1249</td>\n",
       "      <td>12.9</td>\n",
       "      <td>7</td>\n",
       "      <td>10</td>\n",
       "      <td>19</td>\n",
       "      <td>Lux</td>\n",
       "      <td>100</td>\n",
       "      <td>True</td>\n",
       "    </tr>\n",
       "    <tr>\n",
       "      <th>537</th>\n",
       "      <td>EUW1_5870116659</td>\n",
       "      <td>2022-05-13 20:39:36</td>\n",
       "      <td>1577</td>\n",
       "      <td>12.9</td>\n",
       "      <td>10</td>\n",
       "      <td>8</td>\n",
       "      <td>26</td>\n",
       "      <td>Velkoz</td>\n",
       "      <td>200</td>\n",
       "      <td>True</td>\n",
       "    </tr>\n",
       "    <tr>\n",
       "      <th>538</th>\n",
       "      <td>EUW1_5860703912</td>\n",
       "      <td>2022-05-07 19:43:47</td>\n",
       "      <td>1416</td>\n",
       "      <td>12.8</td>\n",
       "      <td>18</td>\n",
       "      <td>5</td>\n",
       "      <td>24</td>\n",
       "      <td>Senna</td>\n",
       "      <td>200</td>\n",
       "      <td>True</td>\n",
       "    </tr>\n",
       "  </tbody>\n",
       "</table>\n",
       "</div>"
      ],
      "text/plain": [
       "             matchId        gameCreation  gameDuration gameVersion  kills  \\\n",
       "534  EUW1_5872829983 2022-05-15 13:27:28          1905        12.9     32   \n",
       "535  EUW1_5872815327 2022-05-15 12:57:12          1560        12.9      9   \n",
       "536  EUW1_5870294390 2022-05-13 22:10:52          1249        12.9      7   \n",
       "537  EUW1_5870116659 2022-05-13 20:39:36          1577        12.9     10   \n",
       "538  EUW1_5860703912 2022-05-07 19:43:47          1416        12.8     18   \n",
       "\n",
       "     deaths  assists championName  teamId   win  \n",
       "534      13       25          Zed     100  True  \n",
       "535      10       26         Ashe     200  True  \n",
       "536      10       19          Lux     100  True  \n",
       "537       8       26       Velkoz     200  True  \n",
       "538       5       24        Senna     200  True  "
      ]
     },
     "execution_count": 43,
     "metadata": {},
     "output_type": "execute_result"
    }
   ],
   "source": [
    "# df.loc[df['teamPosition'] == 'UTILITY', 'teamPosition'] = 'SUPPORT'\n",
    "df\n",
    "\n",
    "df.tail()"
   ]
  },
  {
   "cell_type": "code",
   "execution_count": 54,
   "metadata": {},
   "outputs": [
    {
     "data": {
      "text/plain": [
       "'Kalye'"
      ]
     },
     "execution_count": 54,
     "metadata": {},
     "output_type": "execute_result"
    }
   ],
   "source": [
    "siege_pro_champion = df[df[\"championName\"] = \"Kalye\"]\n",
    "siege_pro_champion"
   ]
  },
  {
   "cell_type": "markdown",
   "metadata": {},
   "source": [
    "#### Save dataframe to parquet"
   ]
  },
  {
   "cell_type": "code",
   "execution_count": null,
   "metadata": {},
   "outputs": [],
   "source": [
    "import pyarrow\n",
    "\n",
    "df.to_parquet(\"NowayEUW.parquet\")"
   ]
  },
  {
   "cell_type": "markdown",
   "metadata": {},
   "source": [
    "Load dataframe from parquet"
   ]
  },
  {
   "cell_type": "code",
   "execution_count": null,
   "metadata": {},
   "outputs": [],
   "source": [
    "df = pd.read_parquet(\"NowayKR.parquet\")"
   ]
  },
  {
   "cell_type": "code",
   "execution_count": 1,
   "metadata": {},
   "outputs": [
    {
     "ename": "NameError",
     "evalue": "name 'pd' is not defined",
     "output_type": "error",
     "traceback": [
      "\u001b[1;31m---------------------------------------------------------------------------\u001b[0m",
      "\u001b[1;31mNameError\u001b[0m                                 Traceback (most recent call last)",
      "\u001b[1;32mc:\\Users\\AaronWork\\Projects\\loltracker\\apps\\old\\lolTracker.ipynb Cell 50\u001b[0m line \u001b[0;36m1\n\u001b[1;32m----> <a href='vscode-notebook-cell:/c%3A/Users/AaronWork/Projects/loltracker/apps/old/lolTracker.ipynb#Y100sZmlsZQ%3D%3D?line=0'>1</a>\u001b[0m pd\u001b[39m.\u001b[39mset_option(\u001b[39m'\u001b[39m\u001b[39mdisplay.max_rows\u001b[39m\u001b[39m'\u001b[39m, \u001b[39m10\u001b[39m)\n\u001b[0;32m      <a href='vscode-notebook-cell:/c%3A/Users/AaronWork/Projects/loltracker/apps/old/lolTracker.ipynb#Y100sZmlsZQ%3D%3D?line=1'>2</a>\u001b[0m \u001b[39m# pd.set_option('display.max_columns', None)\u001b[39;00m\n\u001b[0;32m      <a href='vscode-notebook-cell:/c%3A/Users/AaronWork/Projects/loltracker/apps/old/lolTracker.ipynb#Y100sZmlsZQ%3D%3D?line=2'>3</a>\u001b[0m \u001b[39m# pd.reset_option('display.max_rows')\u001b[39;00m\n\u001b[0;32m      <a href='vscode-notebook-cell:/c%3A/Users/AaronWork/Projects/loltracker/apps/old/lolTracker.ipynb#Y100sZmlsZQ%3D%3D?line=3'>4</a>\u001b[0m pd\u001b[39m.\u001b[39mreset_option(\u001b[39m'\u001b[39m\u001b[39mdisplay.max_columns\u001b[39m\u001b[39m'\u001b[39m)\n",
      "\u001b[1;31mNameError\u001b[0m: name 'pd' is not defined"
     ]
    }
   ],
   "source": [
    "pd.set_option('display.max_rows', 10)\n",
    "# pd.set_option('display.max_columns', None)\n",
    "# pd.reset_option('display.max_rows')\n",
    "pd.reset_option('display.max_columns')"
   ]
  },
  {
   "cell_type": "markdown",
   "metadata": {},
   "source": [
    "#### Role percentage"
   ]
  },
  {
   "cell_type": "code",
   "execution_count": null,
   "metadata": {},
   "outputs": [],
   "source": [
    "import matplotlib.pyplot as plt"
   ]
  },
  {
   "cell_type": "code",
   "execution_count": null,
   "metadata": {},
   "outputs": [],
   "source": [
    "games_count = df.shape[0]\n",
    "\n",
    "role_percentage = df[\"teamPosition\"].value_counts() / games_count * 100\n",
    "\n",
    "# Erstellen des Balkendiagramms\n",
    "role_percentage.plot(kind='bar', color='skyblue')\n",
    "\n",
    "# Hinzufügen von Beschriftungen und Titel\n",
    "plt.xlabel('Roles')\n",
    "plt.ylabel('Percentage')\n",
    "plt.title('Role Percentage Distribution')\n",
    "\n",
    "# plt.savefig(\"NowayKRRolePercentage\")\n",
    "# Anzeigen des Diagramms\n",
    "plt.show()\n"
   ]
  },
  {
   "cell_type": "markdown",
   "metadata": {},
   "source": [
    "#### Role / Win Percentage"
   ]
  },
  {
   "cell_type": "code",
   "execution_count": null,
   "metadata": {},
   "outputs": [],
   "source": [
    "role_counts = df[\"teamPosition\"].value_counts()\n",
    "wins_by_position = df.groupby('teamPosition')['win'].sum()\n",
    "\n",
    "winrate_by_position = round((wins_by_position / role_counts) * 100, 1)\n",
    "winrate_by_position"
   ]
  },
  {
   "cell_type": "code",
   "execution_count": null,
   "metadata": {},
   "outputs": [],
   "source": [
    "# Erstellen des Balkendiagramms\n",
    "winrate_by_position.plot(kind='bar', color='skyblue')\n",
    "\n",
    "# Hinzufügen von Beschriftungen und Titel\n",
    "plt.xlabel('Roles')\n",
    "plt.ylabel('Winrate Percentage')\n",
    "plt.title('Role Winrate Percentage Distribution')\n",
    "\n",
    "# plt.savefig(\"NowayKRRolePercentage\")\n",
    "# Anzeigen des Diagramms\n",
    "plt.show()\n"
   ]
  }
 ],
 "metadata": {
  "kernelspec": {
   "display_name": "lolTrackerEnv",
   "language": "python",
   "name": "python3"
  },
  "language_info": {
   "codemirror_mode": {
    "name": "ipython",
    "version": 3
   },
   "file_extension": ".py",
   "mimetype": "text/x-python",
   "name": "python",
   "nbconvert_exporter": "python",
   "pygments_lexer": "ipython3",
   "version": "3.12.0"
  }
 },
 "nbformat": 4,
 "nbformat_minor": 2
}
