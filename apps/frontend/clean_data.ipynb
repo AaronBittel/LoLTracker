{
 "cells": [
  {
   "cell_type": "code",
   "execution_count": null,
   "metadata": {},
   "outputs": [],
   "source": [
    "import pandas as pd"
   ]
  },
  {
   "cell_type": "code",
   "execution_count": null,
   "metadata": {},
   "outputs": [],
   "source": [
    "df_noway_kr = pd.read_parquet(path=r\"C:\\Users\\AaronWork\\Projects\\LoLTracker\\apps\\data\\NowayKR.parquet\")\n",
    "df_noway_euw = pd.read_parquet(path=r\"C:\\Users\\AaronWork\\Projects\\LoLTracker\\apps\\data\\NowayEUW.parquet\")\n",
    "# df = pd.read_parquet(path=r\"C:\\Users\\AaronWork\\Projects\\LoLTracker\\apps\\data\\test_data.parquet\")"
   ]
  },
  {
   "cell_type": "code",
   "execution_count": null,
   "metadata": {},
   "outputs": [],
   "source": [
    "pd.set_option('display.max_rows', 15)\n",
    "pd.set_option('display.max_columns', None)\n",
    "# pd.reset_option('display.max_rows')\n",
    "# pd.reset_option('display.max_columns')"
   ]
  },
  {
   "cell_type": "code",
   "execution_count": null,
   "metadata": {},
   "outputs": [],
   "source": [
    "df_noway_kr.shape"
   ]
  },
  {
   "cell_type": "code",
   "execution_count": null,
   "metadata": {},
   "outputs": [],
   "source": [
    "df_noway_kr.dtypes"
   ]
  },
  {
   "cell_type": "code",
   "execution_count": null,
   "metadata": {},
   "outputs": [],
   "source": [
    "df_noway_kr"
   ]
  },
  {
   "cell_type": "markdown",
   "metadata": {},
   "source": [
    "#### Game Duration in Minutes Bar Chart with Bins"
   ]
  },
  {
   "cell_type": "code",
   "execution_count": null,
   "metadata": {},
   "outputs": [],
   "source": [
    "import pandas as pd\n",
    "import numpy as np\n",
    "import matplotlib.pyplot as plt\n",
    "\n",
    "def game_duration_in_minutes_bar_chart(df: pd.DataFrame, bin_size=4):\n",
    "    minutes_df = df[\"gameDuration_m_s\"].apply(lambda x: int(x.split(\":\")[0]))\n",
    "\n",
    "    min = minutes_df.min()\n",
    "    min_bin = min if min % 2 == 0 else min - 1\n",
    "\n",
    "    max = minutes_df.max()\n",
    "    max_bin = max if max % 2 == 0 else max + 1\n",
    "\n",
    "    bin_size = 4\n",
    "\n",
    "    bin_edges = [x for x in range(min_bin, max_bin, bin_size)]\n",
    "\n",
    "    hist, edges = np.histogram(minutes_df, bins=bin_edges)\n",
    "\n",
    "    plt.bar(edges[:-1], hist, width=edges[1]-edges[0] - 0.1, color='blue', align='edge')\n",
    "\n",
    "    plt.xlabel(f'Bins of size: {bin_size}')\n",
    "    plt.ylabel('Frequency')\n",
    "    plt.title(f'Game duration in minutes')\n",
    "\n",
    "    plt.show()"
   ]
  },
  {
   "cell_type": "code",
   "execution_count": null,
   "metadata": {},
   "outputs": [],
   "source": [
    "import pandas as pd\n",
    "import numpy as np\n",
    "import matplotlib.pyplot as plt\n",
    "\n",
    "def game_duration_in_minutes_bar_chart(dataframes, names, bin_size=4):\n",
    "    fig, axs = plt.subplots(1, len(dataframes), figsize=(12, 5))  # Adjust the figsize as needed\n",
    "\n",
    "    for i, df in enumerate(dataframes):\n",
    "        minutes_df = df[\"gameDuration_m_s\"].apply(lambda x: int(x.split(\":\")[0]))\n",
    "\n",
    "        min_val = minutes_df.min()\n",
    "        min_bin = min_val if min_val % 2 == 0 else min_val - 1\n",
    "\n",
    "        max_val = minutes_df.max()\n",
    "        max_bin = max_val if max_val % 2 == 0 else max_val + 1\n",
    "\n",
    "        bin_edges = [x for x in range(0, 60, bin_size)]\n",
    "\n",
    "        hist, edges = np.histogram(minutes_df, bins=bin_edges)\n",
    "\n",
    "        axs[i].bar(edges[:-1], hist, width=edges[1]-edges[0] - 0.2, color='blue', align='edge')\n",
    "\n",
    "        axs[i].set_xlabel(f'Bins of size: {bin_size}')\n",
    "        axs[i].set_ylabel('Frequency')\n",
    "        axs[i].set_title(f'Game duration in minutes - Dataset: Noway {names[i]}')\n",
    "\n",
    "        axs[i].set_ylim(0, 100)\n",
    "\n",
    "    plt.tight_layout()\n",
    "    plt.show()"
   ]
  },
  {
   "cell_type": "code",
   "execution_count": null,
   "metadata": {},
   "outputs": [],
   "source": [
    "game_duration_in_minutes_bar_chart([df_noway_kr, df_noway_euw], [\"Korea\", \"Europe\"])"
   ]
  },
  {
   "cell_type": "markdown",
   "metadata": {},
   "source": [
    "#### 5 Most played Champions -> Matchups (count, winrate)"
   ]
  },
  {
   "cell_type": "code",
   "execution_count": null,
   "metadata": {},
   "outputs": [],
   "source": [
    "most_played_champion = df_noway_kr[\"championName\"].value_counts().head(1).index[0]\n",
    "\n",
    "filt_games = df_noway_kr[\"championName\"] == most_played_champion\n",
    "filt_wins = (df_noway_kr[\"championName\"] == most_played_champion) & (df_noway_kr[\"win\"] == True)\n",
    "\n",
    "match_up_counts_series = pd.Series(df_noway_kr.loc[filt_games, \"laneOpponent\"].value_counts().head(10), name=\"Games\")\n",
    "match_up_wins_series = pd.Series(df_noway_kr.loc[filt_wins, \"laneOpponent\"].value_counts().head(10), name=\"Wins\")\n",
    "merged_series = pd.concat([match_up_counts_series, match_up_wins_series], axis=\"columns\")\n",
    "merged_series.fillna(0, inplace=True)\n",
    "merged_series[\"Winrate\"] = merged_series[\"Wins\"] / merged_series[\"Games\"] * 100"
   ]
  },
  {
   "cell_type": "code",
   "execution_count": null,
   "metadata": {},
   "outputs": [],
   "source": [
    "# df_noway_kr.set_index(\"matchId\", inplace=True)\n",
    "df_noway_kr['gameCreation'].max() - df_noway_kr['gameCreation'].min()\n",
    "\n",
    "\n",
    "df_noway_kr.set_index('gameCreation', inplace=True)\n",
    "df_noway_kr"
   ]
  },
  {
   "cell_type": "code",
   "execution_count": null,
   "metadata": {},
   "outputs": [],
   "source": [
    "df_2019 = df_noway_kr[\"goldEarned\"].resample(\"W\").mean()\n",
    "df_2019.plot()"
   ]
  },
  {
   "cell_type": "code",
   "execution_count": null,
   "metadata": {},
   "outputs": [],
   "source": [
    "df_noway_kr.head()"
   ]
  },
  {
   "cell_type": "code",
   "execution_count": null,
   "metadata": {},
   "outputs": [],
   "source": [
    "games = df_noway_kr[\"championName\"].value_counts()\n",
    "stats = df_noway_kr.groupby(\"championName\").agg({\"win\": \"sum\", \"kills\": \"mean\", \"deaths\": \"mean\", \"assists\": \"mean\"})\n",
    "\n",
    "op_gg = pd.concat([games, stats], axis=\"columns\")\n",
    "op_gg[\"winrate\"] = op_gg[\"win\"] / op_gg[\"count\"] * 100\n",
    "op_gg"
   ]
  },
  {
   "cell_type": "code",
   "execution_count": 399,
   "metadata": {},
   "outputs": [
    {
     "name": "stdout",
     "output_type": "stream",
     "text": [
      "\n",
      "teamPosition\n",
      "MIDDLE     0.640000\n",
      "TOP        0.270000\n",
      "JUNGLE     0.040000\n",
      "SUPPORT    0.026667\n",
      "BOTTOM     0.023333\n",
      "Name: proportion, dtype: float64\n"
     ]
    },
    {
     "data": {
      "image/png": "[encoded data removed]",
      "text/plain": [
       "<Figure size 640x480 with 1 Axes>"
      ]
     },
     "metadata": {},
     "output_type": "display_data"
    }
   ],
   "source": [
    "df_noway_kr[\"teamPosition\"].value_counts(normalize=True).mul(100).plot(kind=\"bar\", ylabel=\"Percentage\")\n",
    "print()\n",
    "print(df_noway_euw[\"teamPosition\"].value_counts(normalize=True))"
   ]
  }
 ],
 "metadata": {
  "kernelspec": {
   "display_name": "venv",
   "language": "python",
   "name": "python3"
  },
  "language_info": {
   "codemirror_mode": {
    "name": "ipython",
    "version": 3
   },
   "file_extension": ".py",
   "mimetype": "text/x-python",
   "name": "python",
   "nbconvert_exporter": "python",
   "pygments_lexer": "ipython3",
   "version": "3.12.0"
  }
 },
 "nbformat": 4,
 "nbformat_minor": 2
}
