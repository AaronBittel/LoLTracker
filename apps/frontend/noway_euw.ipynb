{
 "cells": [
  {
   "cell_type": "code",
   "execution_count": null,
   "metadata": {},
   "outputs": [],
   "source": [
    "import pandas as pd"
   ]
  },
  {
   "cell_type": "code",
   "execution_count": null,
   "metadata": {},
   "outputs": [],
   "source": [
    "df_don_noway = pd.read_parquet(path=r\"C:\\Users\\AaronWork\\Projects\\LoLTracker\\apps\\data\\DonNowayEUW.parquet\")\n",
    "df_noway2u = pd.read_parquet(path=r\"C:\\Users\\AaronWork\\Projects\\LoLTracker\\apps\\data\\noway2uEUW.parquet\")"
   ]
  },
  {
   "cell_type": "code",
   "execution_count": null,
   "metadata": {},
   "outputs": [],
   "source": [
    "result_df = pd.concat([df_don_noway, df_noway2u], ignore_index=True)"
   ]
  },
  {
   "cell_type": "code",
   "execution_count": 159,
   "metadata": {},
   "outputs": [
    {
     "name": "stdout",
     "output_type": "stream",
     "text": [
      "  gameVersion\n",
      "0       12.01\n",
      "1       13.12\n",
      "2       13.07\n",
      "3       14.05\n"
     ]
    }
   ],
   "source": [
    "# Split the \"gameVersion\" column into two parts\n",
    "result_df[['major_version', 'minor_version']] = result_df['gameVersion'].str.split('.', expand=True)\n",
    "\n",
    "# Convert the minor version to a two-digit format\n",
    "result_df['minor_version'] = result_df['minor_version'].apply(lambda x: x.zfill(2) if len(x) == 1 else x)\n",
    "\n",
    "# Combine the two parts back into the \"gameVersion\" column\n",
    "result_df['gameVersion'] = result_df['major_version'] + '.' + result_df['minor_version']\n",
    "\n",
    "# Drop the intermediate columns if needed\n",
    "df = result_df.drop(['major_version', 'minor_version'], axis=1)\n",
    "\n",
    "# Display the result\n",
    "print(df)\n"
   ]
  },
  {
   "cell_type": "code",
   "execution_count": 154,
   "metadata": {},
   "outputs": [
    {
     "data": {
      "text/plain": [
       "gameVersion\n",
       "12.1       9\n",
       "12.14      5\n",
       "12.16     23\n",
       "12.19     72\n",
       "12.2      19\n",
       "12.20     40\n",
       "12.21     49\n",
       "12.22     12\n",
       "12.23      3\n",
       "12.3      22\n",
       "13.1     305\n",
       "13.10     12\n",
       "13.11     16\n",
       "13.12     64\n",
       "13.13    139\n",
       "13.16    114\n",
       "13.17    111\n",
       "13.18    133\n",
       "13.19     97\n",
       "13.20     83\n",
       "13.3      27\n",
       "13.4      15\n",
       "13.5       5\n",
       "13.9      16\n",
       "dtype: int64"
      ]
     },
     "execution_count": 154,
     "metadata": {},
     "output_type": "execute_result"
    }
   ],
   "source": [
    "result_df.groupby(\"gameVersion\").size()"
   ]
  },
  {
   "cell_type": "code",
   "execution_count": null,
   "metadata": {},
   "outputs": [],
   "source": [
    "pd.set_option('display.max_rows', None)\n",
    "pd.set_option('display.max_columns', None)\n",
    "# pd.reset_option('display.max_rows')\n",
    "# pd.reset_option('display.max_columns')"
   ]
  },
  {
   "cell_type": "code",
   "execution_count": null,
   "metadata": {},
   "outputs": [],
   "source": [
    "result_df[\"patch\"] = result_df[\"gameVersion\"].apply(lambda x: int(x.split(\".\")[1]))\n",
    "result_df[\"patch\"].dtype"
   ]
  },
  {
   "cell_type": "code",
   "execution_count": null,
   "metadata": {},
   "outputs": [],
   "source": [
    "counts = result_df.groupby(\"gameVersion\")[\"championName\"].value_counts(normalize=True, sort=False)\n",
    "counts.loc[:, \"Gangplank\"].plot()"
   ]
  },
  {
   "cell_type": "code",
   "execution_count": null,
   "metadata": {},
   "outputs": [],
   "source": [
    "import pandas as pd\n",
    "import matplotlib.pyplot as plt\n",
    "\n",
    "# Group by \"patch\" without sorting\n",
    "counts = df_don_noway.groupby(\"patch\")[\"championName\"].value_counts(normalize=True, sort=False)\n",
    "\n",
    "# Plot the pick rates for \"Gangplank\"\n",
    "gangplank_pickrates = counts.unstack()[\"Gangplank\"]\n",
    "gangplank_pickrates.plot()\n",
    "\n",
    "# Set x-axis ticks to go in steps of 1\n",
    "# plt.xticks(range(len(gangplank_pickrates)), gangplank_pickrates.index, rotation=45)\n",
    "plt.show()\n"
   ]
  }
 ],
 "metadata": {
  "kernelspec": {
   "display_name": "venv",
   "language": "python",
   "name": "python3"
  },
  "language_info": {
   "codemirror_mode": {
    "name": "ipython",
    "version": 3
   },
   "file_extension": ".py",
   "mimetype": "text/x-python",
   "name": "python",
   "nbconvert_exporter": "python",
   "pygments_lexer": "ipython3",
   "version": "3.12.0"
  }
 },
 "nbformat": 4,
 "nbformat_minor": 2
}
